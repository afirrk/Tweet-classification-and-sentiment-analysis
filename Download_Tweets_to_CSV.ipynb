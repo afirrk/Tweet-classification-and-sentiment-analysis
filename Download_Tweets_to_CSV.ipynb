{
 "cells": [
  {
   "cell_type": "code",
   "execution_count": 1,
   "metadata": {},
   "outputs": [],
   "source": [
    "import tweepy\n",
    "import pandas as pd\n",
    "import time"
   ]
  },
  {
   "cell_type": "code",
   "execution_count": 2,
   "metadata": {},
   "outputs": [],
   "source": [
    "consumer_key = '**************************'\n",
    "consumer_secret = '**************************'\n",
    "access_token = '**************************'\n",
    "access_token_secret = '**************************'"
   ]
  },
  {
   "cell_type": "code",
   "execution_count": 3,
   "metadata": {},
   "outputs": [],
   "source": [
    "#Authenticate with credentials\n",
    "auth = tweepy.OAuthHandler(consumer_key, consumer_secret)\n",
    "auth.set_access_token(access_token, access_token_secret)\n",
    "api = tweepy.API(auth, wait_on_rate_limit=True)"
   ]
  },
  {
   "cell_type": "code",
   "execution_count": null,
   "metadata": {},
   "outputs": [
    {
     "name": "stdout",
     "output_type": "stream",
     "text": [
      "Tweets downloaded: 855 / 1000 / 1000\r"
     ]
    }
   ],
   "source": [
    "key_word = 'bitcoin'\n",
    "limit = 1000\n",
    "\n",
    "def tweet_search(key_word):\n",
    "    i = 0\n",
    "    tweets_df = pd.DataFrame(columns = ['Datetime', 'Tweet', 'Username', 'Retweets', 'Followers'])\n",
    "    for tweet in tweepy.Cursor(api.search, q = key_word, count = 100, lang = 'en', tweet_mode = 'extended').items():\n",
    "        print('Tweets downloaded:', i, '/', limit, end = '\\r')\n",
    "        if tweet.user.followers_count > 5000 and tweet.retweet_count == 0:\n",
    "            tweets_df = tweets_df.append({'Datetime': tweet.created_at, \n",
    "                                          'Tweet': tweet.full_text, \n",
    "                                          'Username': tweet.user.screen_name, \n",
    "                                          'Retweets': tweet.retweet_count, \n",
    "                                          'Followers': tweet.user.followers_count,}, ignore_index = True)\n",
    "            i += 1\n",
    "            if i % 500 == 0:\n",
    "                time.sleep(30)\n",
    "        if i >= limit:\n",
    "            break\n",
    "        else:\n",
    "            pass\n",
    "        \n",
    "    tweets_df['Datetime'] = pd.to_datetime(tweets_df['Datetime'], format = '%Y.%m.%d %H:%M:%S')    \n",
    "    tweets_df.set_index('Datetime', inplace = True)\n",
    "    return tweets_df\n",
    "\n",
    "tweets_df = tweet_search(key_word)\n",
    "#tweets_df['Tweet'].tolist()\n",
    "\n",
    "tweets_df.to_csv(key_word + '.csv', encoding = 'utf-8')"
   ]
  },
  {
   "cell_type": "code",
   "execution_count": null,
   "metadata": {},
   "outputs": [],
   "source": []
  }
 ],
 "metadata": {
  "kernelspec": {
   "display_name": "Python 3 (ipykernel)",
   "language": "python",
   "name": "python3"
  },
  "language_info": {
   "codemirror_mode": {
    "name": "ipython",
    "version": 3
   },
   "file_extension": ".py",
   "mimetype": "text/x-python",
   "name": "python",
   "nbconvert_exporter": "python",
   "pygments_lexer": "ipython3",
   "version": "3.8.12"
  }
 },
 "nbformat": 4,
 "nbformat_minor": 4
}
